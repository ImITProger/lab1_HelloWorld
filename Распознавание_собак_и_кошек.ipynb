{
  "cells": [
    {
      "cell_type": "markdown",
      "metadata": {
        "id": "view-in-github",
        "colab_type": "text"
      },
      "source": [
        "<a href=\"https://colab.research.google.com/github/ImITProger/lab1_HelloWorld/blob/main/%D0%A0%D0%B0%D1%81%D0%BF%D0%BE%D0%B7%D0%BD%D0%B0%D0%B2%D0%B0%D0%BD%D0%B8%D0%B5_%D1%81%D0%BE%D0%B1%D0%B0%D0%BA_%D0%B8_%D0%BA%D0%BE%D1%88%D0%B5%D0%BA.ipynb\" target=\"_parent\"><img src=\"https://colab.research.google.com/assets/colab-badge.svg\" alt=\"Open In Colab\"/></a>"
      ]
    },
    {
      "cell_type": "markdown",
      "metadata": {
        "id": "WgwApfwstVIQ"
      },
      "source": [
        "# Распознавание кошек и собак\n",
        "\n",
        "Для распознавания используется сверточная нейронная сеть.\n",
        "Основное содержание:\n",
        "- подключение архива данных\n",
        "- просмотр содержания дата сета\n",
        "- создание сверточной сети и ее просмотр\n",
        "- компиляция сети\n",
        "- создание генераторов изображений для тренировки и проверки\n",
        "- обучение нейросети\n",
        "- оценка качества и вывод графика\n",
        "- сохранение модели нейросети (структуры и весов), в облако и на локальный компьютер\n",
        "- загрузка модели нейросети (с новым названием)\n",
        "- компиляция загруженной нейросети\n",
        "- распознавание собственных  картинок (загрузка, просмотр, подготовка, классификация на нейросети)\n",
        "\n",
        "\n",
        "Ноутбук создан с использованием материалов ноутбуков А.Созыкина (УрФУ), а также ноутбуков Виртуальной школы Сбербанка, лето 2020.\n",
        "\n"
      ]
    },
    {
      "cell_type": "markdown",
      "metadata": {
        "id": "jOJZLsqjNxj2"
      },
      "source": [
        "# Видео к ноутбуку\n",
        "\n",
        "А.Созыкин\n",
        " - подготовка набора изображений в KERAS https://www.youtube.com/watch?v=_bH2oh75Kdo\n",
        " - сохранение и загрузка нейросети https://www.youtube.com/watch?v=ro3s22RyvbA\n",
        " - загрузка данных в Colab\n",
        "https://www.youtube.com/watch?v=Ve5oW1qqbZg\n",
        "- команды Linux (директории, файлы  и т.п.) https://www.youtube.com/watch?v=1Q_MF-IXzDQ\n",
        "\n",
        "\n",
        "И другие видео  канала А.Созыкина\n",
        "\n",
        "https://www.youtube.com/channel/UC5gufuYHPSsJA-jul-iwyXA\n"
      ]
    },
    {
      "cell_type": "markdown",
      "metadata": {
        "id": "JfjztR0aXfbQ"
      },
      "source": []
    },
    {
      "cell_type": "code",
      "execution_count": null,
      "metadata": {
        "colab": {
          "base_uri": "https://localhost:8080/"
        },
        "id": "zNlzgwdNByW6",
        "outputId": "6883452f-331e-4e02-d989-039524d9d236"
      },
      "outputs": [
        {
          "name": "stdout",
          "output_type": "stream",
          "text": [
            "Mounted at /content/drive\n"
          ]
        }
      ],
      "source": [
        "from google.colab import drive\n",
        "drive.mount('/content/drive')"
      ]
    },
    {
      "cell_type": "code",
      "execution_count": null,
      "metadata": {
        "id": "GtkDgSvJXbsG"
      },
      "outputs": [],
      "source": [
        "# ИМпорт библиотек для работы с файловой системой\n",
        "# для операций с файлами и каталогами (копирование, перемещение, создание, удаление)\n",
        "import shutil\n",
        "import os\n",
        "from matplotlib import pyplot as plt"
      ]
    },
    {
      "cell_type": "code",
      "execution_count": null,
      "metadata": {
        "id": "f9rvr8UVqDxX"
      },
      "outputs": [],
      "source": [
        "from tensorflow.keras.preprocessing.image import load_img, ImageDataGenerator #функция для загрузки картинок и генератор\n",
        "from tensorflow.keras.models import Sequential #модели из библиотеке Керас\n",
        "from tensorflow.keras.layers import Conv2D, MaxPooling2D #слои нейросети\n",
        "from tensorflow.keras.layers import Activation, Dropout, Flatten, Dense\n"
      ]
    },
    {
      "cell_type": "code",
      "execution_count": null,
      "metadata": {
        "id": "7frL0T1kkmJc"
      },
      "outputs": [],
      "source": [
        "from tensorflow import keras"
      ]
    },
    {
      "cell_type": "markdown",
      "metadata": {
        "id": "ru6osORobPbU"
      },
      "source": [
        "Вспомогательные функции"
      ]
    },
    {
      "cell_type": "code",
      "execution_count": null,
      "metadata": {
        "id": "Of3J4tsUan2i"
      },
      "outputs": [],
      "source": [
        "from os import listdir, sep\n",
        "from os.path import abspath, basename, isdir\n",
        "def tree(dir, padding= '  ', print_files=False):\n",
        "    \"\"\"\n",
        "    Эта функция строит дерево поддиректорий и файлов для заданной директории\n",
        "\n",
        "    Параметры\n",
        "    ----------\n",
        "    dir : str\n",
        "        Path to needed directory\n",
        "    padding : str\n",
        "        String that will be placed in print for separating files levels\n",
        "    print_files : bool\n",
        "        \"Print or not to print\" flag\n",
        "    \"\"\"\n",
        "    cmd = \"find '%s'\" % dir\n",
        "    files = os.popen(cmd).read().strip().split('\\n')\n",
        "    padding = '|  '\n",
        "    for file in files:\n",
        "        level = file.count(os.sep)\n",
        "        pieces = file.split(os.sep)\n",
        "        symbol = {0:'', 1:'/'}[isdir(file)]\n",
        "        if not print_files and symbol != '/':\n",
        "            continue\n",
        "        print (padding*level + pieces[-1] + symbol)"
      ]
    },
    {
      "cell_type": "code",
      "execution_count": null,
      "metadata": {
        "id": "YgSr64RbbOGf"
      },
      "outputs": [],
      "source": [
        "def plot_samples(train_dir, N=4):\n",
        "  import random\n",
        "  fig, ax = plt.subplots(2,N,figsize=(5*N,5*2))\n",
        "\n",
        "  for i,name in enumerate(['buildings','forest']):\n",
        "    filenames = os.listdir(os.path.join(train_dir,name))\n",
        "\n",
        "    for j in range(N):\n",
        "      sample = random.choice(filenames)\n",
        "      image = load_img(os.path.join(train_dir,name,sample))\n",
        "      ax[i][j].imshow(image)\n",
        "      ax[i][j].set_xticks([])\n",
        "      ax[i][j].set_yticks([])\n",
        "      ax[i][j].set_title(name)\n",
        "  plt.grid(False)\n",
        "  plt.show()"
      ]
    },
    {
      "cell_type": "code",
      "execution_count": null,
      "metadata": {
        "id": "zUPYc767qEL1"
      },
      "outputs": [],
      "source": [
        "# Каталог с данными для обучения\n",
        "train_dir = 'train'\n",
        "# Каталог с данными для проверки\n",
        "val_dir = 'val'\n",
        "# Каталог с данными для тестирования\n",
        "test_dir = 'test'\n",
        "# Размеры изображения\n",
        "img_width, img_height = 150, 150\n",
        "# Размерность тензора на основе изображения для входных данных в нейронную сеть\n",
        "# backend Tensorflow, channels_last\n",
        "input_shape = (img_width, img_height, 3)\n",
        "# Количество эпох\n",
        "#было первоначаль\n",
        "epochs = 30\n",
        "#epochs = 3\n",
        "# Размер мини-выборки\n",
        "batch_size = 16\n",
        "# Количество изображений для обучения\n",
        "nb_train_samples = 22500\n",
        "# Количество изображений для проверки\n",
        "nb_validation_samples = 2500\n",
        "# Количество изображений для тестирования\n",
        "nb_test_samples = 2500\n",
        "\n"
      ]
    },
    {
      "cell_type": "markdown",
      "metadata": {
        "id": "vcje-bA0T-YV"
      },
      "source": [
        "# Набор данных\n",
        "Набор данных берется по ссылке из интернета. Можно использовать другие наборы - указать иную ссылку, в том числе ссылку на размещение архива на гугл-диске\n",
        "Набор данных организуется в виде архива, где есть главная директория и поддиректории для обучения и тестирования. В каждой из них - поддиректори  с кошками и собаками.\n"
      ]
    },
    {
      "cell_type": "code",
      "execution_count": null,
      "metadata": {
        "id": "j_Lxdpt5Ii6L"
      },
      "outputs": [],
      "source": []
    },
    {
      "cell_type": "code",
      "execution_count": null,
      "metadata": {
        "id": "FbgdQ9fjT75O"
      },
      "outputs": [],
      "source": [
        "\n",
        "!unzip -qq archive.zip"
      ]
    },
    {
      "cell_type": "code",
      "execution_count": null,
      "metadata": {
        "id": "fqJV4PaoW_YY"
      },
      "outputs": [],
      "source": [
        "base_dir = '/content/drive/MyDrive/Colab Files/buildings-vs-forests'\n",
        "\n",
        "\n",
        "train_dir = os.path.join(base_dir, 'train')\n",
        "\n",
        "test_dir = os.path.join(base_dir, 'test')"
      ]
    },
    {
      "cell_type": "code",
      "execution_count": null,
      "metadata": {
        "id": "tfGw1FFjXCfH"
      },
      "outputs": [],
      "source": [
        "# Посмотрим, как именно расположены директории с датасетом относительно друг друга\n",
        "tree(base_dir,print_files=False)"
      ]
    },
    {
      "cell_type": "code",
      "execution_count": null,
      "metadata": {
        "id": "C1K9C78wbEAN"
      },
      "outputs": [],
      "source": [
        "#Посмотрим на содержание датасета при помощи функции plot_samples\n",
        "plot_samples(train_dir, N=4)"
      ]
    },
    {
      "cell_type": "markdown",
      "metadata": {
        "id": "JXkSJAaQqTJb"
      },
      "source": [
        "\n",
        "1) Создаем сверточную нейронную сеть¶\n",
        "\n",
        "> Блок с отступами\n",
        "\n",
        "\n",
        "Типовая Архитектура сети\n",
        "\n",
        "    Слой свертки, размер ядра 3х3, количество карт признаков - 32 шт., функция активации ReLU.\n",
        "    Слой подвыборки, выбор максимального значения из квадрата 2х2\n",
        "    Слой свертки, размер ядра 3х3, количество карт признаков - 32 шт., функция активации ReLU.\n",
        "    Слой подвыборки, выбор максимального значения из квадрата 2х2\n",
        "    Слой свертки, размер ядра 3х3, количество карт признаков - 64 шт., функция активации ReLU.\n",
        "    Слой подвыборки, выбор максимального значения из квадрата 2х2\n",
        "    flatten - Слой преобразования из двумерного в одномерное представление\n",
        "    Полносвязный слой, 64 нейрона, функция активации ReLU.\n",
        "    Слой Dropout.\n",
        "    Выходной слой, 1 нейрон, функция активации sigmoid\n",
        "\n",
        "Слои с 1 по 6 используются для выделения важных признаков в изображении, а слои с 7 по 10 - для классификации.\n"
      ]
    },
    {
      "cell_type": "markdown",
      "metadata": {
        "id": "wrUdoNueTT6f"
      },
      "source": [
        "2) Далее посмотрим, что из себя представляет эта сеть - вывести информацию о сети с помощью суммари.\n"
      ]
    },
    {
      "cell_type": "markdown",
      "metadata": {
        "id": "FHOaECpbjZLg"
      },
      "source": [
        "\n"
      ]
    },
    {
      "cell_type": "code",
      "execution_count": null,
      "metadata": {
        "id": "bEuyy8tUe0WN"
      },
      "outputs": [],
      "source": [
        "model = Sequential()\n",
        "model.add(Conv2D(32, (3, 3), activation='relu', input_shape=input_shape))\n",
        "model.add(MaxPooling2D(pool_size=(2, 2)))\n",
        "model.add(Conv2D(32, (3, 3), activation='relu'))\n",
        "model.add(MaxPooling2D(pool_size=(2, 2)))\n",
        "model.add(Conv2D(32, (3, 3), activation='relu'))\n",
        "model.add(MaxPooling2D(pool_size=(2, 2)))\n",
        "model.add(Flatten())\n",
        "model.add(Dense(64, activation='relu'))\n",
        "model.add(Dropout(0.2))\n",
        "model.add(Dense(1, activation='sigmoid'))"
      ]
    },
    {
      "cell_type": "code",
      "execution_count": null,
      "metadata": {
        "id": "TekUankrjmXT"
      },
      "outputs": [],
      "source": [
        "model.summary()"
      ]
    },
    {
      "cell_type": "code",
      "execution_count": null,
      "metadata": {
        "id": "VF-dUKMKf4-Z"
      },
      "outputs": [],
      "source": [
        "# комментария к SUMMARY сети: число параметров - есть число межнейрнонных связей с предыдущим слоем (т.е. весов)\n",
        "# можно вычислять как число нейронов в выхоной форме предыдущего слоя Х на число нейронов в данном слое + один на байес\n",
        "# пример: для слоя dence - 18496 Х 64 + 64 = 1183808"
      ]
    },
    {
      "cell_type": "markdown",
      "metadata": {
        "id": "mbRmpNL7gByA"
      },
      "source": [
        "3)  нарисовать граф модели с использованием функции Keras\n",
        " простой вариант (без вывода форм)\n",
        " более сложный вариант - с выводом форм"
      ]
    },
    {
      "cell_type": "code",
      "execution_count": null,
      "metadata": {
        "id": "WjG1hiIukNtH"
      },
      "outputs": [],
      "source": [
        "keras.utils.plot_model(model, 'info.png', show_shapes=True)"
      ]
    },
    {
      "cell_type": "markdown",
      "metadata": {
        "id": "Tfg_JwILqcSy"
      },
      "source": [
        "4) Компилируем нейронную сеть\n",
        "Правильно подобрать оптимизатор, метрику, функцию потерь"
      ]
    },
    {
      "cell_type": "code",
      "execution_count": null,
      "metadata": {
        "id": "zBYuRZ_2kMuQ"
      },
      "outputs": [],
      "source": [
        "model.compile(loss='binary_crossentropy',\n",
        "              optimizer='adam',\n",
        "              metrics=['accuracy'])"
      ]
    },
    {
      "cell_type": "markdown",
      "metadata": {
        "id": "oPs-v3waqgK6"
      },
      "source": [
        "5)\n",
        "Создаем генератор изображений\n",
        "\n",
        "Генератор изображений создается на основе класса ImageDataGenerator. Генератор делит значения всех пикселов изображения на 255.\n"
      ]
    },
    {
      "cell_type": "code",
      "execution_count": null,
      "metadata": {
        "id": "NKCB_QE8qkOK"
      },
      "outputs": [],
      "source": [
        "datagen = ImageDataGenerator(rescale=1. / 255)"
      ]
    },
    {
      "cell_type": "markdown",
      "metadata": {
        "id": "9bXBonE7sEMN"
      },
      "source": [
        "Генератор данных для обучения на основе изображений из каталога\n"
      ]
    },
    {
      "cell_type": "code",
      "execution_count": null,
      "metadata": {
        "colab": {
          "base_uri": "https://localhost:8080/"
        },
        "id": "5JfDvX5OsFra",
        "outputId": "945a3fc1-9c73-4be5-d6b4-eadda9de944b"
      },
      "outputs": [
        {
          "name": "stdout",
          "output_type": "stream",
          "text": [
            "Found 938 images belonging to 2 classes.\n"
          ]
        }
      ],
      "source": [
        "train_generator = datagen.flow_from_directory(\n",
        "    train_dir,\n",
        "    target_size=(img_width, img_height),\n",
        "    batch_size=batch_size,\n",
        "    class_mode='binary')"
      ]
    },
    {
      "cell_type": "markdown",
      "metadata": {
        "id": "w2-2W828sMb5"
      },
      "source": [
        "Генератор данных для проверки на основе изображений из каталога\n"
      ]
    },
    {
      "cell_type": "code",
      "execution_count": null,
      "metadata": {
        "colab": {
          "base_uri": "https://localhost:8080/"
        },
        "id": "pxsLxP-tsNlw",
        "outputId": "d56f5508-15bd-4eab-cbc3-5699b237c267"
      },
      "outputs": [
        {
          "name": "stdout",
          "output_type": "stream",
          "text": [
            "Found 560 images belonging to 2 classes.\n"
          ]
        }
      ],
      "source": [
        "test_generator = datagen.flow_from_directory(\n",
        "    #val_dir,\n",
        "    test_dir,\n",
        "    target_size=(img_width, img_height),\n",
        "    batch_size=batch_size,\n",
        "    class_mode='binary')"
      ]
    },
    {
      "cell_type": "markdown",
      "metadata": {
        "id": "HhYevS_YsRJi"
      },
      "source": [
        "Генератор данных для тестирования на основе изображений из каталога\n"
      ]
    },
    {
      "cell_type": "markdown",
      "metadata": {
        "id": "FgeJmdt4gUI3"
      },
      "source": [
        "6) Обучаем нейросеть с помощью fit\n",
        "Параметры оубчения заданы выше в виде переменных, исопльзовать их."
      ]
    },
    {
      "cell_type": "code",
      "execution_count": null,
      "metadata": {
        "id": "ZyyFSk8_llFz"
      },
      "outputs": [],
      "source": [
        "# Каталог с данными для обучения\n",
        "train_dir = 'train'\n",
        "# Каталог с данными для проверки\n",
        "val_dir = 'val'\n",
        "# Каталог с данными для тестирования\n",
        "test_dir = 'test'\n",
        "# Размеры изображения\n",
        "img_width, img_height = 150, 150\n",
        "# Размерность тензора на основе изображения для входных данных в нейронную сеть\n",
        "# backend Tensorflow, channels_last\n",
        "input_shape = (img_width, img_height, 3)\n",
        "# Количество эпох\n",
        "#было первоначаль\n",
        "epochs = 3\n",
        "#epochs = 3\n",
        "# Размер мини-выборки\n",
        "batch_size = 32\n",
        "# Количество изображений для обучения\n",
        "nb_train_samples = 938\n",
        "# Количество изображений для проверки\n",
        "nb_validation_samples = 100\n",
        "# Количество изображений для тестирования\n",
        "nb_test_samples = 560"
      ]
    },
    {
      "cell_type": "code",
      "execution_count": null,
      "metadata": {
        "colab": {
          "background_save": true,
          "base_uri": "https://localhost:8080/"
        },
        "id": "upB6xgFrlJSn",
        "outputId": "fe57f164-e736-411c-9705-4f9b32500bf6"
      },
      "outputs": [
        {
          "name": "stdout",
          "output_type": "stream",
          "text": [
            "29/29 [==============================] - ETA: 0s - loss: 0.1403 - accuracy: 0.9520"
          ]
        },
        {
          "name": "stderr",
          "output_type": "stream",
          "text": [
            "WARNING:tensorflow:Your input ran out of data; interrupting training. Make sure that your dataset or generator can generate at least `steps_per_epoch * epochs` batches (in this case, 156 batches). You may need to use the repeat() function when building your dataset.\n"
          ]
        },
        {
          "name": "stdout",
          "output_type": "stream",
          "text": [
            "\b\b\b\b\b\b\b\b\b\b\b\b\b\b\b\b\b\b\b\b\b\b\b\b\b\b\b\b\b\b\b\b\b\b\b\b\b\b\b\b\b\b\b\b\b\b\b\b\b\b\b\b\b\b\b\b\b\b\b\b\b\b\b\b\b\b\b\b\b\b\b\b\b\b\b\b\b\b\b\b\b\b\r29/29 [==============================] - 155s 6s/step - loss: 0.1403 - accuracy: 0.9520 - val_loss: 0.1932 - val_accuracy: 0.9179\n"
          ]
        }
      ],
      "source": [
        "history = model.fit(\n",
        "    train_generator,\n",
        "    steps_per_epoch=nb_train_samples // batch_size,\n",
        "    epochs=epochs,\n",
        "    validation_data=test_generator,\n",
        "    validation_steps=nb_validation_samples // batch_size)"
      ]
    },
    {
      "cell_type": "markdown",
      "metadata": {
        "id": "ScU6_vCMsdg4"
      },
      "source": [
        "7) Оцениваем качество работы сети, используем test generator"
      ]
    },
    {
      "cell_type": "code",
      "execution_count": null,
      "metadata": {
        "colab": {
          "base_uri": "https://localhost:8080/",
          "height": 430
        },
        "id": "v779jUnyg6lf",
        "outputId": "6dd703ce-9154-4b35-c872-8fb82050b68f"
      },
      "outputs": [
        {
          "data": {
            "image/png": "[encoded data removed]",
            "text/plain": [
              "<Figure size 640x480 with 1 Axes>"
            ]
          },
          "metadata": {},
          "output_type": "display_data"
        }
      ],
      "source": [
        "# Построим изменение точности на трейновой (оранжевая линия) и тестовой (синяя линия)\n",
        "# выборках\n",
        "plt.plot(history.history['val_accuracy'], '-o', label='validation accuracy')\n",
        "plt.plot(history.history['accuracy'], '--s', label='training accuracy')\n",
        "plt.legend();"
      ]
    },
    {
      "cell_type": "code",
      "execution_count": null,
      "metadata": {
        "colab": {
          "base_uri": "https://localhost:8080/",
          "height": 430
        },
        "id": "fopdPU1AnZ2V",
        "outputId": "43c9f2bc-1574-438c-e6a3-79f5da6dfd8b"
      },
      "outputs": [
        {
          "data": {
            "image/png": "[encoded data removed]",
            "text/plain": [
              "<Figure size 640x480 with 1 Axes>"
            ]
          },
          "metadata": {},
          "output_type": "display_data"
        }
      ],
      "source": [
        "# Построим изменение потерь на трейновой (оранжевая линия) и тестовой (синяя линия)\n",
        "# выборках\n",
        "plt.plot(history.history['val_loss'], '-o', label='validation loss')\n",
        "plt.plot(history.history['loss'], '--s', label='training loss')\n",
        "plt.legend();"
      ]
    },
    {
      "cell_type": "code",
      "execution_count": null,
      "metadata": {
        "colab": {
          "base_uri": "https://localhost:8080/"
        },
        "id": "DGy7dohbnUqH",
        "outputId": "952be420-8cf5-4b03-898e-a71772e76bc9"
      },
      "outputs": [
        {
          "name": "stdout",
          "output_type": "stream",
          "text": [
            "157/157 [==============================] - 4s 25ms/step - loss: 0.4295 - accuracy: 0.8172\n"
          ]
        },
        {
          "data": {
            "text/plain": [
              "[0.4295336902141571, 0.8172000050544739]"
            ]
          },
          "execution_count": 20,
          "metadata": {},
          "output_type": "execute_result"
        }
      ],
      "source": [
        "# Взглянем на итоговые результаты классификации на тестовой выборке\n",
        "# (функция ошибки, точность)\n",
        "model.evaluate(test_generator)"
      ]
    },
    {
      "cell_type": "markdown",
      "metadata": {
        "id": "_BR557ce4U9n"
      },
      "source": [
        "8) Далее сохраним модель сети\n",
        "\n"
      ]
    },
    {
      "cell_type": "markdown",
      "metadata": {
        "id": "rgvqWgIv2PXA"
      },
      "source": [
        "Подробнее про сохранение и считывание модели - см. здесь https://blog.stroganov.pro/%D1%81%D0%BE%D1%85%D1%80%D0%B0%D0%BD%D0%B5%D0%BD%D0%B8%D0%B5-%D0%BC%D0%BE%D0%B4%D0%B5%D0%BB%D0%B8-%D0%BD%D0%B5%D0%B9%D1%80%D0%BE%D0%BD%D0%BD%D0%BE%D0%B9-%D1%81%D0%B5%D1%82%D0%B8/"
      ]
    },
    {
      "cell_type": "markdown",
      "metadata": {
        "id": "5QdBBnd82mxf"
      },
      "source": [
        "Там же смотри подробнее про сохранение/считывание весов\n"
      ]
    },
    {
      "cell_type": "markdown",
      "metadata": {
        "id": "7-mz5PcOSC4Z"
      },
      "source": [
        "Материалы Colab по внешним данным ( сохранение, считывание в память колаба): https://colab.research.google.com/notebooks/io.ipynb"
      ]
    },
    {
      "cell_type": "markdown",
      "metadata": {
        "id": "vx8MUb3SQdum"
      },
      "source": [
        "Внимание! Ниже показано сохранение с устаревшим способом. Нужно применит ьболее современный способ сохранения модели с помощью save в формате .h5"
      ]
    },
    {
      "cell_type": "code",
      "execution_count": null,
      "metadata": {
        "id": "szADcDP-pYuA"
      },
      "outputs": [],
      "source": [
        "print(\"Сохраняем сеть\")\n",
        "# Сохраняем сеть для последующего использования\n",
        "# Генерируем описание модели в формате json\n",
        "model_json = model.to_json()\n",
        "json_file = open(\"CAT_and_DOG.json\", \"w\")\n",
        "# Записываем архитектуру сети в файл\n",
        "json_file.write(model_json)\n",
        "json_file.close()\n",
        "# Записываем данные о весах в файл\n",
        "model.save_weights(\"CAT_and_DOG.h5\")\n",
        "print(\"Сохранение сети завершено\")"
      ]
    },
    {
      "cell_type": "code",
      "execution_count": null,
      "metadata": {
        "id": "XD1Rc9W0-lK_"
      },
      "outputs": [],
      "source": [
        "#вызов метода для работы с файлами (загрузки)\n",
        "from google.colab import files\n"
      ]
    },
    {
      "cell_type": "code",
      "execution_count": null,
      "metadata": {
        "id": "yuMxzGJfNbSh"
      },
      "outputs": [],
      "source": [
        "#собственно сохранение\n",
        "files.download(\"CAT_and_DOG.json\")"
      ]
    },
    {
      "cell_type": "code",
      "execution_count": null,
      "metadata": {
        "id": "w2DpoquX_Vf-"
      },
      "outputs": [],
      "source": [
        "#сохраняем веса сети\n",
        "files.download(\"CAT_and_DOG.h5\")"
      ]
    },
    {
      "cell_type": "markdown",
      "metadata": {
        "id": "rKfJE-inYLy7"
      },
      "source": [
        "9) Загружаем сохраненную в формате .h5 сеть\n"
      ]
    },
    {
      "cell_type": "code",
      "execution_count": null,
      "metadata": {
        "id": "ul0o5ZSm2JOh"
      },
      "outputs": [],
      "source": [
        "from keras.models import model_from_json"
      ]
    },
    {
      "cell_type": "code",
      "execution_count": null,
      "metadata": {
        "id": "EWUP5uS6IhV2"
      },
      "outputs": [],
      "source": [
        "#загрузка данныйх нейросети из файла\n",
        "#!wget Здесь нужно прописать адрес созраненных данных на внешнем сайте https://....."
      ]
    },
    {
      "cell_type": "code",
      "execution_count": null,
      "metadata": {
        "id": "EqbgiO3oKxfR"
      },
      "outputs": [],
      "source": [
        "#!wget http://"
      ]
    },
    {
      "cell_type": "code",
      "execution_count": null,
      "metadata": {
        "id": "-pcUbu3oJyyS"
      },
      "outputs": [],
      "source": [
        "# посмотрим содержимое директории в колабе с помощью команды:\n",
        "!ls"
      ]
    },
    {
      "cell_type": "code",
      "execution_count": null,
      "metadata": {
        "id": "hJPS26PeJ2Pe"
      },
      "outputs": [],
      "source": [
        "#!head Указать имя файла для просмотра просмотр сохраненной нейросети, нужно вписать название файла по факту\n",
        "!head CAT_and_DOG.json\n"
      ]
    },
    {
      "cell_type": "code",
      "execution_count": null,
      "metadata": {
        "id": "gWzmhVWkK9pw"
      },
      "outputs": [],
      "source": [
        "#!head CAT_and_DOG.h5"
      ]
    },
    {
      "cell_type": "markdown",
      "metadata": {
        "id": "Z3c6tQnkiE_x"
      },
      "source": [
        "ниже показан пример - загрузка сохраненной  модели и вестов  в json файле"
      ]
    },
    {
      "cell_type": "code",
      "execution_count": null,
      "metadata": {
        "id": "an1PMA2k0Zy6"
      },
      "outputs": [],
      "source": [
        "print(\"Загружаю сеть из файлов\")\n",
        "# Загружаем данные об архитектуре сети\n",
        "json_file = open(\"CAT_and_DOG.json\", \"r\")\n",
        "loaded_model_json = json_file.read()\n",
        "json_file.close()\n",
        "# Создаем модель\n",
        "loaded_model = model_from_json(loaded_model_json)\n",
        "# Загружаем сохраненные веса в модель\n",
        "loaded_model.load_weights(\"CAT_and_DOG.h5\")\n",
        "print(\"Загрузка сети завершена\")"
      ]
    },
    {
      "cell_type": "markdown",
      "metadata": {
        "id": "9IEtzfx822Mq"
      },
      "source": [
        "Далее мы можем проводить с переменной loaded_model все процедуры, обучать, прогнозировать, но сначала ее нужно скмопилировать, т.е.  вызвать ее метод compile."
      ]
    },
    {
      "cell_type": "code",
      "execution_count": null,
      "metadata": {
        "id": "-Hd-BuKV28tR"
      },
      "outputs": [],
      "source": [
        "loaded_model.compile(loss='binary_crossentropy', optimizer='adam', metrics=['accuracy'])"
      ]
    },
    {
      "cell_type": "code",
      "execution_count": null,
      "metadata": {
        "id": "Wvdnwo1f4e-e"
      },
      "outputs": [],
      "source": [
        "# Взглянем на итоговые результаты классификации этой загруженной модели на тестовой выборке\n",
        "# (функция ошибки, точность). Она по идее совпадает со значениями ранее оубченной и сохраненной сети\n",
        "loaded_model.evaluate(test_generator)"
      ]
    },
    {
      "cell_type": "markdown",
      "metadata": {
        "id": "arw5_XsJCR7M"
      },
      "source": [
        "10) Используем модель для распознавания своего изображения\n",
        "Сначала загружаем свое изображение.\n",
        "\n"
      ]
    },
    {
      "cell_type": "markdown",
      "metadata": {
        "id": "XomJBO4UCugv"
      },
      "source": [
        "Дополнительно см. материалы ноутбуков А. Созыкина\n",
        " https://colab.research.google.com/drive/1K3Pn8aXM06hUfhn241y8UIGQ_xcHKF8n#scrollTo=44DYnv7NJ9M9\n"
      ]
    },
    {
      "cell_type": "code",
      "execution_count": null,
      "metadata": {
        "id": "wrthUpczFQiE"
      },
      "outputs": [],
      "source": [
        "from IPython.display import Image\n",
        "from tensorflow.keras.preprocessing import image"
      ]
    },
    {
      "cell_type": "markdown",
      "metadata": {
        "id": "MNHfdycaNE0q"
      },
      "source": [
        "про загрузку изображений см здесь:\n",
        "https://www.youtube.com/watch?v=Ve5oW1qqbZg\n"
      ]
    },
    {
      "cell_type": "code",
      "execution_count": null,
      "metadata": {
        "id": "zvmgLotRNzZf"
      },
      "outputs": [],
      "source": [
        "#если выше не было этого вызова вызов метода для работы с файлами (загрузки)\n",
        "from google.colab import files"
      ]
    },
    {
      "cell_type": "code",
      "execution_count": null,
      "metadata": {
        "id": "Tq5-PkLLCYXf"
      },
      "outputs": [],
      "source": [
        "f = files.upload()\n"
      ]
    },
    {
      "cell_type": "code",
      "execution_count": null,
      "metadata": {
        "id": "kzunruAfLhNG"
      },
      "outputs": [],
      "source": [
        "#смотрим, что есть в облачном хранилище, есть ли там наша картинка\n",
        "!ls\n"
      ]
    },
    {
      "cell_type": "code",
      "execution_count": null,
      "metadata": {
        "id": "wHX9-TfPHR12"
      },
      "outputs": [],
      "source": [
        "# если хочется посмотреть текущйи каталог]\n",
        "!pwd\n",
        "\n"
      ]
    },
    {
      "cell_type": "code",
      "execution_count": null,
      "metadata": {
        "id": "E4hL41nqMDiK"
      },
      "outputs": [],
      "source": [
        "#Покажем файл в облачном хранилище\n",
        "Image ('/content/People_test/1.jpg')"
      ]
    },
    {
      "cell_type": "code",
      "execution_count": null,
      "metadata": {
        "id": "uoULh3dQLxj5"
      },
      "outputs": [],
      "source": [
        "img_path = '/content/People_test/3.jpg'"
      ]
    },
    {
      "cell_type": "code",
      "execution_count": null,
      "metadata": {
        "id": "0LoNK-eSOGs7"
      },
      "outputs": [],
      "source": [
        "def catOrDog(num):\n",
        "  if num == 1:\n",
        "    return 'Dog'\n",
        "  else:\n",
        "    return 'Cat'"
      ]
    },
    {
      "cell_type": "code",
      "execution_count": null,
      "metadata": {
        "colab": {
          "base_uri": "https://localhost:8080/"
        },
        "id": "-IKn9dC5MBL7",
        "outputId": "ee27f857-1b67-4076-da14-d3d7f8cbec3c"
      },
      "outputs": [
        {
          "name": "stdout",
          "output_type": "stream",
          "text": [
            "/content/People_test/6.jpg\n",
            "1/1 [==============================] - 0s 66ms/step\n",
            "Dog\n",
            "/content/People_test/3.jpg\n",
            "1/1 [==============================] - 0s 26ms/step\n",
            "Dog\n",
            "/content/People_test/1.jpg\n",
            "1/1 [==============================] - 0s 31ms/step\n",
            "Cat\n",
            "/content/People_test/4.jpg\n",
            "1/1 [==============================] - 0s 37ms/step\n",
            "Cat\n",
            "/content/People_test/2.jpg\n",
            "1/1 [==============================] - 0s 53ms/step\n",
            "Dog\n",
            "/content/People_test/8.jpg\n",
            "1/1 [==============================] - 0s 20ms/step\n",
            "Dog\n",
            "/content/People_test/7.jpg\n",
            "1/1 [==============================] - 0s 18ms/step\n",
            "Dog\n",
            "/content/People_test/5.jpg\n",
            "1/1 [==============================] - 0s 18ms/step\n",
            "Dog\n"
          ]
        }
      ],
      "source": [
        "import os\n",
        "import numpy as np\n",
        "from pathlib import Path\n",
        "\n",
        "directory = '/content/People_test'\n",
        "for entry in Path(directory).iterdir():\n",
        "  print(entry)\n",
        "  # Преобразуем картинку в вектор , массив numpy\n",
        "  Image(entry, width=150, height=150)\n",
        "  #устанавливаем целевой размер, как и ранее при обучении - 150 на 150\n",
        "  img = image.load_img(entry, target_size=(150, 150), grayscale=False)\n",
        "  # Преобразуем изображением в массив numpy и нормализуем\n",
        "  x = image.img_to_array(img)\n",
        "  x = 255 - x\n",
        "  x /= 255\n",
        "  x = np.expand_dims(x, axis=0)\n",
        "  prediction = model.predict(x)\n",
        "  print(catOrDog(round(prediction[0][0])))"
      ]
    },
    {
      "cell_type": "markdown",
      "metadata": {
        "id": "XWkISxB2DyNc"
      },
      "source": [
        "11) Выполнить распознавание изображения с помощью модели загруженной ранее с компьютера нейросети\n"
      ]
    },
    {
      "cell_type": "code",
      "execution_count": null,
      "metadata": {
        "id": "ft5U7u6tDxaI"
      },
      "outputs": [],
      "source": [
        "# prediction =\n",
        "print (prediction)\n"
      ]
    },
    {
      "cell_type": "code",
      "execution_count": null,
      "metadata": {
        "id": "eVj-ZQB1EGNN"
      },
      "outputs": [],
      "source": [
        "# по итогам арспознавания вывести на печать наименование распозгнанного класса (кошка или собака)\n"
      ]
    },
    {
      "cell_type": "markdown",
      "metadata": {
        "id": "sWE18h4bRWFb"
      },
      "source": [
        "**Дополнительное Задание:**\n",
        "Д1) Получить доступ к внутренним слоям обученной модели\n",
        "Д2) Вывести на экран изображения карт признаков для выбранных внутренних слоев"
      ]
    },
    {
      "cell_type": "markdown",
      "metadata": {
        "id": "xapDACOeKajz"
      },
      "source": [
        "Проба: доступ к промежуточным слоям оубченной модели.\n",
        "Нужно сделать отдельные модели для каждого из интересующих слоев. (со своим аутпутом)\n",
        "- Сделать предсказание каждой из этих моделей - в переменную вида prediction.\n",
        "- Посмотреть форму тензора на выходе этих моделей (вывести на экран).\n",
        "- Далее  этот тензор (массив чисел) преобразовать в изображение и вывести на экран (использовать вспомогательные библиотеки Pil, openCV  и др.)"
      ]
    },
    {
      "cell_type": "code",
      "execution_count": null,
      "metadata": {
        "id": "pYIOlU12Kg5s"
      },
      "outputs": [],
      "source": [
        "#Попробуем получить доступ к внутренним слоям модели\n",
        "from keras.models import Model\n",
        "# Имя слоя берется из Summury нейросети\n",
        "model2= Model(model.input,model.get_layer('conv2d_2').output)\n",
        "#model2= Model(model.input,model.layers[1].output)"
      ]
    },
    {
      "cell_type": "code",
      "execution_count": null,
      "metadata": {
        "id": "wy17qZzEK_Zs"
      },
      "outputs": [],
      "source": [
        "preds=model2.predict(x)"
      ]
    },
    {
      "cell_type": "code",
      "execution_count": null,
      "metadata": {
        "id": "XK3e7l9mLD6u"
      },
      "outputs": [],
      "source": [
        "# разбираемся в форме результата\n",
        "np.shape(preds)"
      ]
    },
    {
      "cell_type": "code",
      "execution_count": null,
      "metadata": {
        "id": "dy8rspcfUEOu"
      },
      "outputs": [],
      "source": [
        "# смотрим отдельные элементы , например\n",
        "preds_a=preds[0,:,:,:]"
      ]
    },
    {
      "cell_type": "code",
      "execution_count": null,
      "metadata": {
        "id": "Kn8s3hv1UN7n"
      },
      "outputs": [],
      "source": [
        "np.shape(preds_a)"
      ]
    },
    {
      "cell_type": "code",
      "execution_count": null,
      "metadata": {
        "id": "VxFBIjQFLE0M"
      },
      "outputs": [],
      "source": [
        "# можно создать еще одну модель, которая будет иметь доступ к другому внутреннему слою\n",
        "model3= Model(model.input,model.get_layer('max_pooling2d_2').output)"
      ]
    },
    {
      "cell_type": "code",
      "execution_count": null,
      "metadata": {
        "id": "X69WQ0rmO_4G"
      },
      "outputs": [],
      "source": [
        "preds3=model3.predict(x)"
      ]
    },
    {
      "cell_type": "code",
      "execution_count": null,
      "metadata": {
        "id": "XeNIYe8xPCrv"
      },
      "outputs": [],
      "source": [
        "np.shape(preds3)"
      ]
    },
    {
      "cell_type": "code",
      "execution_count": null,
      "metadata": {
        "id": "R6_bc2gAPM3g"
      },
      "outputs": [],
      "source": [
        "preds3_a=preds3[0,:,:]"
      ]
    },
    {
      "cell_type": "code",
      "execution_count": null,
      "metadata": {
        "id": "lDy3zFHkPSlf"
      },
      "outputs": [],
      "source": [
        "np.shape(preds3_a)"
      ]
    },
    {
      "cell_type": "code",
      "execution_count": null,
      "metadata": {
        "id": "sMP2AaQXPtH-"
      },
      "outputs": [],
      "source": [
        "prob_img=preds3_a[:,:]\n"
      ]
    },
    {
      "cell_type": "code",
      "execution_count": null,
      "metadata": {
        "id": "T1j7fpOQP0Dv"
      },
      "outputs": [],
      "source": [
        "np.shape(prob_img[:,:,:1])"
      ]
    },
    {
      "cell_type": "code",
      "execution_count": null,
      "metadata": {
        "id": "o3eutgsBTmUe"
      },
      "outputs": [],
      "source": [
        "# вывод изображения из массива - можно использовать преобразование image.fromarray"
      ]
    },
    {
      "cell_type": "markdown",
      "metadata": {
        "id": "oJdZudzgVFeW"
      },
      "source": [
        "Выше мы определили prediction. Если это просто картинка-массив Высота х Ширина, то работает - выводится одно изображение размером этой Высоты и Ширины. Если же это тензор - много таких массивов, то они все накладываются в плоское изображение такой же Высоты и ширины"
      ]
    },
    {
      "cell_type": "markdown",
      "metadata": {
        "id": "Pr1bPpDuZ9RA"
      },
      "source": [
        "Д3) попробовать, как будет вглядеть то же самое изображение, но после функции активации. То есть в качестве аутпута модели ставим слой после активации 'activation'"
      ]
    },
    {
      "cell_type": "code",
      "execution_count": null,
      "metadata": {
        "id": "SN_WJfMiYps-"
      },
      "outputs": [],
      "source": [
        "model4= Model(model.input,model.get_layer('activation').output)\n",
        "preds4=model4.predict(x)\n",
        "preds4_a=preds4[0,:,:]\n",
        "np.shape(preds4_a)\n"
      ]
    },
    {
      "cell_type": "code",
      "execution_count": null,
      "metadata": {
        "id": "1IClZQs_ZdI-"
      },
      "outputs": [],
      "source": [
        "# с помощью библиотек (PIL  и т.п.) попробовать изменять размеры изображения"
      ]
    }
  ],
  "metadata": {
    "accelerator": "GPU",
    "colab": {
      "collapsed_sections": [
        "WgwApfwstVIQ"
      ],
      "provenance": [],
      "include_colab_link": true
    },
    "kernelspec": {
      "display_name": "Python 3",
      "name": "python3"
    }
  },
  "nbformat": 4,
  "nbformat_minor": 0
}